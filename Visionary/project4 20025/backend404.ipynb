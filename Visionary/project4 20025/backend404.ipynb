{
 "cells": [
  {
   "cell_type": "code",
   "execution_count": 9,
   "metadata": {},
   "outputs": [],
   "source": [
    "import pandas as pd\n",
    "from sklearn.model_selection import train_test_split\n",
    "\n",
    "# Load the dataset\n",
    "data = pd.read_csv(\"heart.csv\")\n",
    "\n",
    "# Features and target variable\n",
    "X = data.drop(columns=['HeartDisease'])  # Remove the target column from feature"
   ]
  },
  {
   "cell_type": "code",
   "execution_count": 10,
   "metadata": {},
   "outputs": [],
   "source": [
    "from flask import Flask, request, jsonify, render_template\n",
    "import numpy as np\n",
    "import pandas as pd\n",
    "import pickle\n",
    "from threading import Thread\n",
    "\n",
    "# Load the trained model and preprocessor\n",
    "with open(\"heart_model.pkl\", \"rb\") as f:\n",
    "    model = pickle.load(f)\n",
    "\n",
    "with open(\"preprocessor.pkl\", \"rb\") as f:\n",
    "    preprocessor = pickle.load(f)\n",
    "\n",
    "app = Flask(__name__)\n",
    "\n",
    "# Route to render the HTML form\n",
    "@app.route(\"/\")\n",
    "def home():\n",
    "    return render_template(\"index.html\")\n",
    "\n",
    "# API endpoint to handle predictions\n",
    "@app.route('/predict', methods=['POST'])\n",
    "def predict():\n",
    "    try:\n",
    "        data = request.json\n",
    "        raw_features = data[\"features\"]\n",
    "\n",
    "        # Convert numerical values from string to proper types\n",
    "        processed_features = [\n",
    "            int(raw_features[0]),  # Age\n",
    "            raw_features[1],        # Gender (string, remains unchanged)\n",
    "            raw_features[2],        # Chest Pain Type (string, remains unchanged)\n",
    "            int(raw_features[3]),  # Resting BP\n",
    "            int(raw_features[4]),  # Cholesterol\n",
    "            int(raw_features[5]),  # Fasting BS (0 or 1)\n",
    "            raw_features[6],        # Resting ECG (string, remains unchanged)\n",
    "            int(raw_features[7]),  # Max HR\n",
    "            raw_features[8],        # Exercise Angina (string, remains unchanged)\n",
    "            float(raw_features[9]), # Oldpeak (decimal value)\n",
    "            raw_features[10]        # ST Slope (string, remains unchanged)\n",
    "        ]\n",
    "        features=processed_features\n",
    "\n",
    "        # Convert to DataFrame for transformation\n",
    "        features_df = pd.DataFrame([processed_features], columns=X.columns)\n",
    "\n",
    "        # Transform using the preprocessor\n",
    "        transformed_features = preprocessor.transform(features_df)\n",
    "\n",
    "        # Make prediction\n",
    "        prediction = model.predict(transformed_features)[0]\n",
    "        probability = model.predict_proba(transformed_features)[0][1]\n",
    "\n",
    "        return jsonify({\n",
    "            \"message\": \"appointment is booked for you\" if int(prediction) else \"u don't need a doctor\",\n",
    "            \"prediction\": int(prediction),\n",
    "            \"probability\": float(probability)\n",
    "        })\n",
    "    except Exception as e:\n",
    "        return jsonify({\"error\": str(e)})\n",
    "\n",
    "\n",
    "# Function to run Flask server in a separate thread\n",
    "def run():\n",
    "    app.run(host=\"0.0.0.0\", port=8082)\n",
    "\n",
    "# Start Flask server\n",
    "thread = Thread(target=run)\n",
    "thread.start()\n"
   ]
  },
  {
   "cell_type": "code",
   "execution_count": 11,
   "metadata": {},
   "outputs": [
    {
     "name": "stdout",
     "output_type": "stream",
     "text": [
      "{'message': \"u don't need a doctor\", 'prediction': 0, 'probability': 0.03517574684483672}\n"
     ]
    }
   ],
   "source": [
    "import requests\n",
    "\n",
    "# Define the URL of your Flask API\n",
    "url = \"http://127.0.0.1:8082/predict\"  # Localhost URL\n",
    "\n",
    "# Example test data (modify based on your model's features)\n",
    "test_data = {\n",
    "    \"features\": [37,'M','ATA',130,283,0,'ST',98,'N',0,'Up']\n",
    "}\n",
    "\n",
    "# Send POST request to the API\n",
    "response = requests.post(url, json=test_data)\n",
    "\n",
    "# Print the response from the API\n",
    "print(response.json())\n"
   ]
  }
 ],
 "metadata": {
  "kernelspec": {
   "display_name": "Python 3",
   "language": "python",
   "name": "python3"
  },
  "language_info": {
   "codemirror_mode": {
    "name": "ipython",
    "version": 3
   },
   "file_extension": ".py",
   "mimetype": "text/x-python",
   "name": "python",
   "nbconvert_exporter": "python",
   "pygments_lexer": "ipython3",
   "version": "3.9.6"
  }
 },
 "nbformat": 4,
 "nbformat_minor": 2
}
